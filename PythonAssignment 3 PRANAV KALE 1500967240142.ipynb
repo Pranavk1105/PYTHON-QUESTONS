{
 "cells": [
  {
   "cell_type": "markdown",
   "metadata": {},
   "source": [
    "Q1. Create a person class with:\n",
    "i) two instance variable: name, age.\n",
    "ii) Create a parameterized constructor"
   ]
  },
  {
   "cell_type": "code",
   "execution_count": null,
   "metadata": {},
   "outputs": [
    {
     "name": "stdout",
     "output_type": "stream",
     "text": [
      "Person(name= Raj , age=18)\n"
     ]
    }
   ],
   "source": [
    "class Person:\n",
    "    def __init__(self, name, age):\n",
    "        self.name = name  \n",
    "        self.age = age    \n",
    "\n",
    "    def __repr__(self):\n",
    "        return f\"Person(name={ self.name}, age={self.age})\"\n",
    " \n",
    "person1 = Person(\" PRANAV \", 19)\n",
    "print(person1)  \n",
    "\n"
   ]
  },
  {
   "cell_type": "markdown",
   "metadata": {},
   "source": [
    "Q1. Create a student class. Inherit person class in Student class.\n",
    "Student class have:\n",
    "i) instance variable: rollno and stream.\n",
    "ii) Create a parameterized constructor to initialize all instance variables of\n",
    "student class as well as Person class\n",
    "iii)Instance method: display() to print name, age, rollno and stream\n",
    "Create an object of Student class and call display method"
   ]
  },
  {
   "cell_type": "code",
   "execution_count": 1,
   "metadata": {},
   "outputs": [
    {
     "name": "stdout",
     "output_type": "stream",
     "text": [
      "Name: PRANAV, Age: 19, Roll No: 142, Stream: CSE\n"
     ]
    }
   ],
   "source": [
    "class Person:\n",
    "    def __init__(self, name, age):\n",
    "        self.name = name  \n",
    "        self.age = age \n",
    "    def __repr__(self):\n",
    "        return f\"Person(name={self.name}, age={self.age})\"\n",
    "\n",
    "class Student(Person):\n",
    "    def __init__(self, name, age, rollno, stream):\n",
    "        super().__init__(name, age)  \n",
    "        self.rollno = rollno         \n",
    "        self.stream = stream        \n",
    "    def display(self):\n",
    "        print(f\"Name: {self.name}, Age: {self.age}, Roll No: {self.rollno}, Stream: {self.stream}\")\n",
    "\n",
    "student1 = Student(\"PRANAV\", 19, \"142\", \"CSE\")\n",
    "student1.display()  "
   ]
  },
  {
   "cell_type": "markdown",
   "metadata": {},
   "source": [
    "Q2. Write a Python class named Circle. Declare an instance variable, radius and two methods that will compute the area and the perimeter of a circle."
   ]
  },
  {
   "cell_type": "code",
   "execution_count": 5,
   "metadata": {},
   "outputs": [
    {
     "name": "stdout",
     "output_type": "stream",
     "text": [
      "Area: 201.06\n",
      "Perimeter: 50.27\n"
     ]
    }
   ],
   "source": [
    "import math\n",
    "\n",
    "class Circle:\n",
    "    def __init__(self, radius):\n",
    "        self.radius = radius  \n",
    "    def area(self):\n",
    "        return math.pi * (self.radius ** 2)\n",
    "\n",
    "    def perimeter(self):\n",
    "        return 2 * math.pi * self.radius\n",
    "\n",
    "circle = Circle(8)\n",
    "print(f\"Area: {circle.area():.2f}\")      \n",
    "print(f\"Perimeter: {circle.perimeter():.2f}\") "
   ]
  },
  {
   "cell_type": "markdown",
   "metadata": {},
   "source": [
    "Q3. Write a Python program to create a calculator class. Include methods for\n",
    "basic arithmetic operations."
   ]
  },
  {
   "cell_type": "code",
   "execution_count": 6,
   "metadata": {},
   "outputs": [
    {
     "name": "stdout",
     "output_type": "stream",
     "text": [
      "Addition: 4 + 8 = 12\n",
      "Subtraction: 11 - 7 = 4\n",
      "Multiplication: 8 * 9 = 72\n"
     ]
    }
   ],
   "source": [
    "class Calculator:\n",
    "    def add(self, a, b):\n",
    "         \n",
    "        return a + b\n",
    "\n",
    "    def subtract(self, a, b):\n",
    "        \n",
    "        return a - b\n",
    "\n",
    "    def multiply(self, a, b):\n",
    "        \n",
    "        return a * b\n",
    "\n",
    "    def divide(self, a, b):\n",
    "         \n",
    "        if b == 0:\n",
    "            raise ValueError(\"Cannot divide by zero.\")\n",
    "        return a / b\n",
    "\n",
    " \n",
    "if __name__ == \"__main__\":\n",
    "    calc = Calculator()\n",
    "    \n",
    "    print(\"Addition: 4 + 8 =\", calc.add(4, 8))               \n",
    "    print(\"Subtraction: 11 - 7 =\", calc.subtract(11, 7))     \n",
    "    print(\"Multiplication: 8 * 9 =\", calc.multiply(8, 9))  \n"
   ]
  },
  {
   "cell_type": "markdown",
   "metadata": {},
   "source": [
    "Q4. Write a Python program to create a class representing a shopping cart.\n",
    "Include methods for adding and removing items, and calculating the total\n",
    "price."
   ]
  },
  {
   "cell_type": "code",
   "execution_count": 7,
   "metadata": {},
   "outputs": [
    {
     "name": "stdout",
     "output_type": "stream",
     "text": [
      "Items in your cart:\n",
      "Apple: Price $1.00 x Quantity 3\n",
      "Banana: Price $1.30 x Quantity 2\n",
      "Orange: Price $2.80 x Quantity 1\n",
      "Total price: $8.40\n",
      "Items in your cart:\n",
      "Apple: Price $1.00 x Quantity 3\n",
      "Banana: Price $1.30 x Quantity 2\n",
      "Orange: Price $2.80 x Quantity 1\n",
      "Total price after removal: $8.40\n"
     ]
    }
   ],
   "source": [
    "class ShoppingCart:\n",
    "    def __init__(self):\n",
    "      \n",
    "        self.items = {} \n",
    "    def add_item(self, name, price, quantity=1):\n",
    "        \n",
    "        if name in self.items:\n",
    "            self.items[name]['quantity'] += quantity\n",
    "        else:\n",
    "            self.items[name] = {'price': price, 'quantity': quantity}\n",
    "\n",
    "    def remove_item(self, name, quantity=1):\n",
    "         \n",
    "        if name in self.items:\n",
    "            if self.items[name]['quantity'] <= quantity:\n",
    "                del self.items[name]  \n",
    "                self.items[name]['quantity'] -= quantity\n",
    "        else:\n",
    "            print(f\"Item '{name}' not found in the cart.\")\n",
    "\n",
    "    def calculate_total(self):\n",
    "        \n",
    "        total = 0\n",
    "        for item, details in self.items.items():\n",
    "            total += details['price'] * details['quantity']\n",
    "        return total\n",
    "\n",
    "    def display_cart(self):\n",
    "        \n",
    "        if not self.items:\n",
    "            print(\"Your shopping cart is empty.\")\n",
    "        else:\n",
    "            print(\"Items in your cart:\")\n",
    "            for item, details in self.items.items():\n",
    "                print(f\"{item}: Price ${details['price']:.2f} x Quantity {details['quantity']}\")\n",
    "\n",
    " \n",
    "if __name__ == \"__main__\":\n",
    "    cart = ShoppingCart()\n",
    "    \n",
    "    cart.add_item(\"Apple\", 1 , 3)\n",
    "    cart.add_item(\"Banana\", 1.30, 2)\n",
    "    cart.add_item(\"Orange\", 2.80, 1)\n",
    "\n",
    "    cart.display_cart()   \n",
    "\n",
    "    total_price = cart.calculate_total()\n",
    "    print(f\"Total price: ${total_price:.2f}\")   \n",
    "\n",
    "    cart.remove_item(\"Banana\", 1)  \n",
    "    cart.display_cart()  \n",
    "\n",
    "    total_price = cart.calculate_total()\n",
    "    print(f\"Total price after removal: ${total_price:.2f}\")  \n"
   ]
  },
  {
   "cell_type": "markdown",
   "metadata": {},
   "source": [
    "Q5. Write a Python class Employee with attributes like emp_id, emp_name,\n",
    "emp_salary, and emp_department and methods like calculate_emp_salary,\n",
    "emp_assign_department, and print_employee_details.\n",
    "Sample Employee Data:\n",
    "\"ADAMS\", \"E7876\", 50000, \"ACCOUNTING\"\n",
    "\"JONES\", \"E7499\", 45000, \"RESEARCH\"\n",
    "\"MARTIN\", \"E7900\", 50000, \"SALES\"\n",
    "\"SMITH\", \"E7698\", 55000, \"OPERATIONS\"\n",
    "\n",
    "• Use 'assign_department' method to change the department of an\n",
    "employee.\n",
    "• Use 'print_employee_details' method to print the details of an\n",
    "employee.\n",
    "• Use 'calculate_emp_salary' method takes two arguments: salary and\n",
    "hours_worked, which is the number of hours worked by the employee.\n",
    "If the number of hours worked is more than 50, the method computes\n",
    "overtime and adds it to the salary. Overtime is calculated as following\n",
    "formula:\n",
    "• overtime = hours_worked - 50\n",
    "Overtime amount = (overtime * (salary / 50))"
   ]
  },
  {
   "cell_type": "code",
   "execution_count": null,
   "metadata": {},
   "outputs": [
    {
     "name": "stdout",
     "output_type": "stream",
     "text": [
      "Employee ID: E7876\n",
      "Employee Name: ADAMS\n",
      "Employee Salary: $50000.00\n",
      "Employee Department: ACCOUNTING\n",
      "Total Salary (including overtime): $55000.00\n",
      "\n",
      "Employee ID: E7499\n",
      "Employee Name: JONES\n",
      "Employee Salary: $45000.00\n",
      "Employee Department: RESEARCH\n",
      "Total Salary (including overtime): $49500.00\n",
      "\n",
      "Employee ID: E7900\n",
      "Employee Name: MARTIN\n",
      "Employee Salary: $50000.00\n",
      "Employee Department: SALES\n",
      "Total Salary (including overtime): $55000.00\n",
      "\n",
      "Employee ID: E7698\n",
      "Employee Name: SMITH\n",
      "Employee Salary: $55000.00\n",
      "Employee Department: OPERATIONS\n",
      "Total Salary (including overtime): $60500.00\n",
      "\n",
      "After department change:\n",
      "Employee ID: E7876\n",
      "Employee Name: ADAMS\n",
      "Employee Salary: $50000.00\n",
      "Employee Department: FINANCE\n"
     ]
    }
   ],
   "source": [
    "class Employee:\n",
    "    def __init__(self, emp_name, emp_id, emp_salary, emp_department):\n",
    "     \n",
    "        self.emp_name = emp_name\n",
    "        self.emp_id = emp_id\n",
    "        self.emp_salary = emp_salary\n",
    "        self.emp_department = emp_department\n",
    "\n",
    "    def assign_department(self, new_department):\n",
    "       \n",
    "        self.emp_department = new_department\n",
    "\n",
    "    def calculate_emp_salary(self, hours_worked):\n",
    " \n",
    "        base_salary = self.emp_salary\n",
    "        if hours_worked > 50:\n",
    "            overtime_hours = hours_worked - 50\n",
    "            overtime_amount = overtime_hours * (base_salary / 50)\n",
    "            total_salary = base_salary + overtime_amount\n",
    "        else:\n",
    "            total_salary = base_salary\n",
    "        \n",
    "        return total_salary\n",
    "\n",
    "    def print_employee_details(self):\n",
    "        \n",
    "        print(f\"Employee ID: {self.emp_id}\")\n",
    "        print(f\"Employee Name: {self.emp_name}\")\n",
    "        print(f\"Employee Salary: ${self.emp_salary:.2f}\")\n",
    "        print(f\"Employee Department: {self.emp_department}\")\n",
    "\n",
    " \n",
    "employees = [\n",
    "    Employee(\"ADAMS\", \"E7876\", 50000, \"ACCOUNTING\"),\n",
    "    Employee(\"JONES\", \"E7499\", 45000, \"RESEARCH\"),\n",
    "    Employee(\"MARTIN\", \"E7900\", 50000, \"SALES\"),\n",
    "    Employee(\"SMITH\", \"E7698\", 55000, \"OPERATIONS\"),\n",
    "]\n",
    "\n",
    " \n",
    "for emp in employees:\n",
    "    emp.print_employee_details()\n",
    "    hours_worked = 55  \n",
    "    total_salary = emp.calculate_emp_salary(hours_worked)\n",
    "    print(f\"Total Salary (including overtime): ${total_salary:.2f}\\n\")\n",
    "\n",
    " \n",
    "employees[0].assign_department(\"FINANCE\")\n",
    "print(\"After department change:\")\n",
    "employees[0].print_employee_details()\n"
   ]
  },
  {
   "cell_type": "markdown",
   "metadata": {},
   "source": [
    "Q6. Write a Python class BankAccount with attributes like account_number,\n",
    "balance, date_of_opening and customer_name, and methods like deposit,\n",
    "withdraw, and check_balance. "
   ]
  },
  {
   "cell_type": "code",
   "execution_count": 14,
   "metadata": {},
   "outputs": [
    {
     "name": "stdout",
     "output_type": "stream",
     "text": [
      "Current balance: $7000.00\n",
      "Deposited $500.00. New balance: $7500.00\n",
      "Withdrew $200.00. New balance: $7300.00\n",
      "Withdrew $1500.00. New balance: $5800.00\n",
      "Current balance: $5800.00\n"
     ]
    }
   ],
   "source": [
    "class BankAccount:\n",
    "    def __init__(self, account_number, customer_name, date_of_opening, initial_balance=0):\n",
    "        \n",
    "        self.account_number = account_number\n",
    "        self.customer_name = customer_name\n",
    "        self.date_of_opening = date_of_opening\n",
    "        self.balance = initial_balance\n",
    "\n",
    "    def deposit(self, amount):\n",
    "         \n",
    "        if amount > 0:\n",
    "            self.balance += amount\n",
    "            print(f\"Deposited ${amount:.2f}. New balance: ${self.balance:.2f}\")\n",
    "        else:\n",
    "            print(\"Deposit amount must be positive.\")\n",
    "\n",
    "    def withdraw(self, amount):\n",
    "        \n",
    "        if amount > 0:\n",
    "            if amount <= self.balance:\n",
    "                self.balance -= amount\n",
    "                print(f\"Withdrew ${amount:.2f}. New balance: ${self.balance:.2f}\")\n",
    "            else:\n",
    "                print(\"Insufficient funds for this withdrawal.\")\n",
    "        else:\n",
    "            print(\"Withdrawal amount must be positive.\")\n",
    "\n",
    "    def check_balance(self):\n",
    "         \n",
    "        print(f\"Current balance: ${self.balance:.2f}\")\n",
    " \n",
    "if __name__ == \"__main__\":\n",
    "    account = BankAccount(\"123456789\", \"John Doe\", \"2024-01-01\", 7000)\n",
    "\n",
    "    account.check_balance()   \n",
    "    account.deposit(500)      \n",
    "    account.withdraw(200)     \n",
    "    account.withdraw(1500)    \n",
    "    account.check_balance()     \n"
   ]
  },
  {
   "cell_type": "markdown",
   "metadata": {},
   "source": [
    "Q7. Create a class hierarchy for different types of geometric shapes, including\n",
    "circles, rectangles, and triangles, using inheritance.\n",
    "Tasks:\n",
    "A. Define a base class called Shape with common attributes\n",
    "like colour and area.\n",
    "B. Implement subclasses for specific shape types such\n",
    "as Circle, Rectangle, and Triangle. Each subclass should inherit\n",
    "from the Shape class.\n",
    "C. Incorporate additional attributes and methods specific to each\n",
    "shape type. For example, a Circle class might have attributes\n",
    "like radius and methods like calculate_area.\n",
    "D. Use inheritance to create subclasses representing variations within\n",
    "each shape type. For example, within the Rectangle class, create\n",
    "subclasses for Square and Parallelogram.\n",
    "E. Implement methods or attributes in the subclasses to demonstrate\n",
    "how inheritance allows for the sharing of attributes and methods\n",
    "from parent classes.\n",
    "F. Create instances of the various shape classes and test their\n",
    "functionality to ensure that attributes and methods work as\n",
    "expected."
   ]
  },
  {
   "cell_type": "code",
   "execution_count": 15,
   "metadata": {},
   "outputs": [
    {
     "name": "stdout",
     "output_type": "stream",
     "text": [
      "Circle(radius=9, color=red)\n",
      "Area: 254.47\n",
      "\n",
      "Rectangle(width=5, height=8, color=blue)\n",
      "Area: 40.00\n",
      "\n",
      "Triangle(base=2, height=7, color=green)\n",
      "Area: 7.00\n",
      "\n",
      "Square(side=5, color=yellow)\n",
      "Area: 25.00\n",
      "\n",
      "Parallelogram(base=7, height=2, color=purple)\n",
      "Area: 14.00\n",
      "\n"
     ]
    }
   ],
   "source": [
    "import math\n",
    "\n",
    " \n",
    "class Shape:\n",
    "    def __init__(self, color):\n",
    "        self.color = color   \n",
    "\n",
    "    def area(self):\n",
    "        raise NotImplementedError(\"This method should be implemented by subclasses.\")\n",
    "\n",
    "    def __repr__(self):\n",
    "        return f\"{self.__class__.__name__}(color={self.color})\"\n",
    "\n",
    "\n",
    " \n",
    "class Circle(Shape):\n",
    "    def __init__(self, radius, color):\n",
    "        super().__init__(color)\n",
    "        self.radius = radius\n",
    "\n",
    "    def area(self):\n",
    "        return math.pi * (self.radius ** 2)\n",
    "\n",
    "    def __repr__(self):\n",
    "        return f\"Circle(radius={self.radius}, color={self.color})\"\n",
    "\n",
    "\n",
    " \n",
    "class Rectangle(Shape):\n",
    "    def __init__(self, width, height, color):\n",
    "        super().__init__(color)\n",
    "        self.width = width\n",
    "        self.height = height\n",
    "\n",
    "    def area(self):\n",
    "        return self.width * self.height\n",
    "\n",
    "    def __repr__(self):\n",
    "        return f\"Rectangle(width={self.width}, height={self.height}, color={self.color})\"\n",
    "\n",
    "\n",
    " \n",
    "class Triangle(Shape):\n",
    "    def __init__(self, base, height, color):\n",
    "        super().__init__(color)\n",
    "        self.base = base\n",
    "        self.height = height\n",
    "\n",
    "    def area(self):\n",
    "        return 0.5 * self.base * self.height\n",
    "\n",
    "    def __repr__(self):\n",
    "        return f\"Triangle(base={self.base}, height={self.height}, color={self.color})\"\n",
    "\n",
    "\n",
    " \n",
    "class Square(Rectangle):\n",
    "    def __init__(self, side, color):\n",
    "        super().__init__(side, side, color)   \n",
    "\n",
    "    def __repr__(self):\n",
    "        return f\"Square(side={self.width}, color={self.color})\"\n",
    "\n",
    " \n",
    "class Parallelogram(Rectangle):\n",
    "    def __init__(self, base, height, color):\n",
    "        super().__init__(base, height, color)\n",
    "\n",
    "    def __repr__(self):\n",
    "        return f\"Parallelogram(base={self.width}, height={self.height}, color={self.color})\"\n",
    "\n",
    "\n",
    " \n",
    "if __name__ == \"__main__\":\n",
    "    shapes = [\n",
    "        Circle(9, \"red\"),\n",
    "        Rectangle(5, 8, \"blue\"),\n",
    "        Triangle(2, 7, \"green\"),\n",
    "        Square(5, \"yellow\"),\n",
    "        Parallelogram(7, 2, \"purple\")\n",
    "    ]\n",
    "\n",
    "    for shape in shapes:\n",
    "        print(shape)\n",
    "        print(f\"Area: {shape.area():.2f}\\n\")\n"
   ]
  },
  {
   "cell_type": "markdown",
   "metadata": {},
   "source": [
    "## File Handling\n"
   ]
  },
  {
   "cell_type": "markdown",
   "metadata": {},
   "source": [
    "Q8. WAP to find the number of words in the given text file\n",
    "Hints:\n",
    "Use the split() method to separate words."
   ]
  },
  {
   "cell_type": "code",
   "execution_count": 31,
   "metadata": {},
   "outputs": [
    {
     "name": "stdout",
     "output_type": "stream",
     "text": [
      "The number of words in the file is: 23\n"
     ]
    }
   ],
   "source": [
    "def count_words_in_file(file_path):\n",
    "     \n",
    "    try:\n",
    "        with open(file_path, 'r') as file:\n",
    "            \n",
    "            content = file.read()\n",
    "            \n",
    "            words = content.split()\n",
    "           \n",
    "            word_count = len(words)\n",
    "            return word_count\n",
    "    except FileNotFoundError:\n",
    "        print(f\"The file at {file_path} was not found.\")\n",
    "        return 0\n",
    "    except Exception as e:\n",
    "        print(f\"An error occurred: {e}\")\n",
    "        return 0\n",
    "\n",
    " \n",
    "if __name__ == \"__main__\":\n",
    "    file_path = 'example.txt'   \n",
    "    num_words = count_words_in_file(file_path)\n",
    "    print(f\"The number of words in the file is: {num_words}\")\n"
   ]
  },
  {
   "cell_type": "markdown",
   "metadata": {},
   "source": [
    "Q9. Write a program to write “Happy Programming” in a text file and read it"
   ]
  },
  {
   "cell_type": "code",
   "execution_count": null,
   "metadata": {},
   "outputs": [
    {
     "name": "stdout",
     "output_type": "stream",
     "text": [
      "Content written to happy_programming.txt: \"Happy Programming\"\n",
      "Content read from happy_programming.txt: \"Happy Programming\"\n"
     ]
    }
   ],
   "source": [
    "def write_to_file(file_path, content):\n",
    "\n",
    "    with open(file_path, 'w') as file:\n",
    "        file.write(content)\n",
    "    print(f'Content written to {file_path}: \"{content}\"')\n",
    "\n",
    "def read_from_file(file_path): \n",
    "    try:\n",
    "        with open(file_path, 'r') as file:\n",
    "            content = file.read()\n",
    "            print(f'Content read from {file_path}: \"{content}\"')\n",
    "    except FileNotFoundError:\n",
    "        print(f\"The file at {file_path} was not found.\")\n",
    "\n",
    " \n",
    "if __name__ == \"__main__\":\n",
    "    file_path = 'happy_programming.txt'   \n",
    "    message = \"Happy Programming\"\n",
    "\n",
    " \n",
    "    write_to_file(file_path, message)\n",
    "\n",
    " \n",
    "    read_from_file(file_path)\n"
   ]
  },
  {
   "cell_type": "markdown",
   "metadata": {},
   "source": [
    "Q10. 10.WAP to demonstrate the working of the following functions:\n",
    "i) read()\n",
    "ii) read(n)\n",
    "iii)readline()\n",
    "iv) readlines()"
   ]
  },
  {
   "cell_type": "code",
   "execution_count": 16,
   "metadata": {},
   "outputs": [
    {
     "name": "stdout",
     "output_type": "stream",
     "text": [
      "Using read():\n",
      "Line 1: Kya bolti public!\n",
      "Line 2: Welcome to Mumbai.\n",
      "Line 3: This file demonstrate nothing.\n",
      "Line 4: Enjoy!\n",
      "Line 5: Happy Journey!\n",
      "\n",
      "\n",
      "Using read(30):\n",
      "Line 1: Kya bolti public!\n",
      "Line\n",
      "\n",
      "Using readline():\n",
      "Line 1: Kya bolti public!\n",
      "\n",
      "\n",
      "Using readlines():\n",
      "Line 1: Kya bolti public!\n",
      "Line 2: Welcome to Mumbai.\n",
      "Line 3: This file demonstrate nothing.\n",
      "Line 4: Enjoy!\n",
      "Line 5: Happy Journey!\n"
     ]
    }
   ],
   "source": [
    "def create_sample_file(file_path):\n",
    "     \n",
    "    with open(file_path, 'w') as file:\n",
    "        file.write(\"Line 1: Kya bolti public!\\n\")\n",
    "        file.write(\"Line 2: Welcome to Mumbai.\\n\")\n",
    "        file.write(\"Line 3: This file demonstrate nothing.\\n\")\n",
    "        file.write(\"Line 4: Enjoy!\\n\")\n",
    "        file.write(\"Line 5: Happy Journey!\\n\")\n",
    "\n",
    "def read_entire_file(file_path):\n",
    "    \n",
    "    with open(file_path, 'r') as file:\n",
    "        content = file.read()\n",
    "    print(\"Using read():\")\n",
    "    print(content)\n",
    "\n",
    "def read_n_characters(file_path, n):\n",
    "     \n",
    "    with open(file_path, 'r') as file:\n",
    "        content = file.read(n)\n",
    "    print(f\"\\nUsing read({n}):\")\n",
    "    print(content)\n",
    "\n",
    "def read_one_line(file_path):\n",
    "     \n",
    "    with open(file_path, 'r') as file:\n",
    "        line = file.readline()\n",
    "    print(\"\\nUsing readline():\")\n",
    "    print(line)\n",
    "\n",
    "def read_all_lines(file_path):\n",
    "     \n",
    "    with open(file_path, 'r') as file:\n",
    "        lines = file.readlines()\n",
    "    print(\"\\nUsing readlines():\")\n",
    "    for line in lines:\n",
    "        print(line, end='')  \n",
    "\n",
    " \n",
    "if __name__ == \"__main__\":\n",
    "    file_path = 'sample.txt'  \n",
    " \n",
    "    create_sample_file(file_path)\n",
    "\n",
    " \n",
    "    read_entire_file(file_path)\n",
    "    read_n_characters(file_path, 30)  \n",
    "    read_one_line(file_path)\n",
    "    read_all_lines(file_path)\n"
   ]
  },
  {
   "cell_type": "markdown",
   "metadata": {},
   "source": [
    "Q11. 11.WAP that exhibits the working of the following functions:\n",
    "i. write()\n",
    "ii. writelines()"
   ]
  },
  {
   "cell_type": "code",
   "execution_count": 33,
   "metadata": {},
   "outputs": [
    {
     "name": "stdout",
     "output_type": "stream",
     "text": [
      "Using write(): \"Hello, I am studying for exams().\" has been written to example.txt\n",
      "Using writelines():\n",
      " - \"This is the first line added using writelines().\" has been added to example.txt\n",
      " - \"This is the second line added using writelines().\" has been added to example.txt\n",
      " - \"This is the third line added using writelines().\" has been added to example.txt\n",
      "\n",
      "Content of the file after writing:\n",
      "Hello, I am studying for exams().\n",
      "This is the first line added using writelines().\n",
      "This is the second line added using writelines().\n",
      "This is the third line added using writelines().\n",
      "\n"
     ]
    }
   ],
   "source": [
    "def write_single_line(file_path, line):\n",
    "     \n",
    "    with open(file_path, 'w') as file:\n",
    "        file.write(line)\n",
    "    print(f'Using write(): \"{line.strip()}\" has been written to {file_path}')\n",
    "\n",
    "def write_multiple_lines(file_path, lines):\n",
    "     \n",
    "    with open(file_path, 'a') as file:  \n",
    "        file.writelines(lines)\n",
    "    print('Using writelines():')\n",
    "    for line in lines:\n",
    "        print(f' - \"{line.strip()}\" has been added to {file_path}')\n",
    "\n",
    " \n",
    "if __name__ == \"__main__\":\n",
    "    file_path = 'example.txt'  \n",
    "\n",
    "    \n",
    "    single_line = \"Hello, I am studying for exams().\\n\"\n",
    "    write_single_line(file_path, single_line)\n",
    "\n",
    "   \n",
    "    multiple_lines = [\n",
    "        \"This is the first line added using writelines().\\n\",\n",
    "        \"This is the second line added using writelines().\\n\",\n",
    "        \"This is the third line added using writelines().\\n\"\n",
    "    ]\n",
    "    write_multiple_lines(file_path, multiple_lines)\n",
    "\n",
    "    \n",
    "    print(\"\\nContent of the file after writing:\")\n",
    "    with open(file_path, 'r') as file:\n",
    "        content = file.read()\n",
    "        print(content)\n"
   ]
  },
  {
   "cell_type": "markdown",
   "metadata": {},
   "source": [
    "Q12. Write a Python program to read first n lines of a file."
   ]
  },
  {
   "cell_type": "code",
   "execution_count": 32,
   "metadata": {},
   "outputs": [
    {
     "name": "stdout",
     "output_type": "stream",
     "text": [
      "file_path = 'example.txt'\n",
      "\n"
     ]
    }
   ],
   "source": [
    "def read_first_n_lines(file_path, n):\n",
    "     \n",
    "    try:\n",
    "        with open(file_path, 'r') as file:\n",
    "            for i in range(n):\n",
    "                line = file.readline()\n",
    "                if line:   \n",
    "                    print(line, end='')  \n",
    "                else:\n",
    "                    print(\"End of file reached.\")\n",
    "                    break\n",
    "    except FileNotFoundError:\n",
    "        print(f\"The file at {file_path} was not found.\")\n",
    "    except Exception as e:\n",
    "        print(f\"An error occurred: {e}\")\n",
    "\n",
    " \n",
    "if __name__ == \"__main__\":\n",
    "    file_path = 'example.txt'   \n",
    "    n = int(input(\"Enter the number of lines to read: \"))   \n",
    "    read_first_n_lines(file_path, n)\n"
   ]
  },
  {
   "cell_type": "markdown",
   "metadata": {},
   "source": [
    "Q13.Write a Python program to append text to a file and display the text."
   ]
  },
  {
   "cell_type": "code",
   "execution_count": 34,
   "metadata": {},
   "outputs": [
    {
     "name": "stdout",
     "output_type": "stream",
     "text": [
      "Text appended to example.txt: \"PYTHON\"\n",
      "\n",
      "Content of the file:\n",
      "Hello, I am studying for exams().\n",
      "This is the first line added using writelines().\n",
      "This is the second line added using writelines().\n",
      "This is the third line added using writelines().\n",
      "PYTHON \n",
      "\n"
     ]
    }
   ],
   "source": [
    "def append_to_file(file_path, text):\n",
    "     \n",
    "    with open(file_path, 'a') as file:   \n",
    "        file.write(text + \"\\n\")  \n",
    "    print(f'Text appended to {file_path}: \"{text.strip()}\"')\n",
    "\n",
    "def display_file_content(file_path):\n",
    "     \n",
    "    try:\n",
    "        with open(file_path, 'r') as file:\n",
    "            content = file.read()\n",
    "            print(\"\\nContent of the file:\")\n",
    "            print(content)\n",
    "    except FileNotFoundError:\n",
    "        print(f\"The file at {file_path} was not found.\")\n",
    "\n",
    " \n",
    "if __name__ == \"__main__\":\n",
    "    file_path = 'example.txt'  \n",
    "    text_to_append = input(\"Enter the text to append to the file: \")  \n",
    "\n",
    "    \n",
    "    append_to_file(file_path, text_to_append)\n",
    " \n",
    "    display_file_content(file_path)\n"
   ]
  },
  {
   "cell_type": "markdown",
   "metadata": {},
   "source": [
    "Q14. Write a Python program to read last n lines of a file."
   ]
  },
  {
   "cell_type": "code",
   "execution_count": 35,
   "metadata": {},
   "outputs": [
    {
     "name": "stdout",
     "output_type": "stream",
     "text": [
      "\n",
      "Last 3 lines of the file:\n",
      "This is the second line added using writelines().\n",
      "This is the third line added using writelines().\n",
      "PYTHON \n"
     ]
    }
   ],
   "source": [
    "def read_last_n_lines(file_path, n):\n",
    "     \n",
    "    try:\n",
    "        with open(file_path, 'r') as file:\n",
    "            \n",
    "            lines = file.readlines()\n",
    "           \n",
    "            last_n_lines = lines[-n:] if n <= len(lines) else lines\n",
    "            print(\"\\nLast {} lines of the file:\".format(n))\n",
    "            for line in last_n_lines:\n",
    "                print(line, end='')  \n",
    "    except FileNotFoundError:\n",
    "        print(f\"The file at {file_path} was not found.\")\n",
    "    except Exception as e:\n",
    "        print(f\"An error occurred: {e}\")\n",
    " \n",
    "if __name__ == \"__main__\":\n",
    "    file_path = 'example.txt'   \n",
    "    n = int(input(\"Enter the number of lines to read from the end: \"))   \n",
    "    read_last_n_lines(file_path, n)\n"
   ]
  },
  {
   "cell_type": "markdown",
   "metadata": {},
   "source": [
    "Q15. Write a Python program to read a file line by line and store it into a list."
   ]
  },
  {
   "cell_type": "code",
   "execution_count": null,
   "metadata": {},
   "outputs": [
    {
     "name": "stdout",
     "output_type": "stream",
     "text": [
      "File read successfully. Total lines read: 5\n",
      "\n",
      "Contents of the file stored in the list:\n",
      "Hello, this is a single line written using write().\n",
      "This is the first line added using writelines().\n",
      "This is the second line added using writelines().\n",
      "This is the third line added using writelines().\n",
      "the the wrod ifn\n"
     ]
    }
   ],
   "source": [
    "def read_file_into_list(file_path):\n",
    "     \n",
    "    lines_list = []\n",
    "    try:\n",
    "        with open(file_path, 'r') as file:\n",
    "            for line in file:\n",
    "                lines_list.append(line.strip())   \n",
    "        print(f\"File read successfully. Total lines read: {len(lines_list)}\")\n",
    "    except FileNotFoundError:\n",
    "        print(f\"The file at {file_path} was not found.\")\n",
    "    except Exception as e:\n",
    "        print(f\"An error occurred: {e}\")\n",
    "    \n",
    "    return lines_list\n",
    "\n",
    " \n",
    "if __name__ == \"__main__\":\n",
    "    file_path = 'example.txt'   \n",
    "    lines = read_file_into_list(file_path)\n",
    "    \n",
    " \n",
    "    print(\"\\nContents of the file stored in the list:\")\n",
    "    for line in lines:\n",
    "        print(line)\n"
   ]
  },
  {
   "cell_type": "markdown",
   "metadata": {},
   "source": [
    "## Exception Handling"
   ]
  },
  {
   "cell_type": "markdown",
   "metadata": {},
   "source": [
    "Q16.Write a program to exhibit these concepts:\n",
    "\n",
    "i. try\n",
    "ii. except\n",
    "iii. finally"
   ]
  },
  {
   "cell_type": "code",
   "execution_count": null,
   "metadata": {},
   "outputs": [
    {
     "name": "stdout",
     "output_type": "stream",
     "text": [
      "File content:\n",
      "Hello, this is a single line written using write().\n",
      "This is the first line added using writelines().\n",
      "This is the second line added using writelines().\n",
      "This is the third line added using writelines().\n",
      "the the wrod ifn \n",
      "\n",
      "Execution of the read_file function is complete.\n"
     ]
    }
   ],
   "source": [
    "def read_file(file_path):\n",
    " \n",
    "    try:\n",
    "      \n",
    "        with open(file_path, 'r') as file:\n",
    "            content = file.read()\n",
    "            print(\"File content:\")\n",
    "            print(content)\n",
    "    except FileNotFoundError:\n",
    " \n",
    "        print(f\"Error: The file '{file_path}' was not found.\")\n",
    "    except Exception as e:\n",
    "   \n",
    "        print(f\"An error occurred: {e}\")\n",
    "    finally:\n",
    "  \n",
    "        print(\"Execution of the read_file function is complete.\")\n",
    "\n",
    " \n",
    "if __name__ == \"__main__\":\n",
    "    file_path = 'example.txt'  \n",
    "    read_file(file_path)\n"
   ]
  },
  {
   "cell_type": "markdown",
   "metadata": {},
   "source": [
    "Q17. Write a Python program to handle a ZeroDivisionError exception when\n",
    "dividing a number by zero."
   ]
  },
  {
   "cell_type": "code",
   "execution_count": 30,
   "metadata": {},
   "outputs": [
    {
     "name": "stdout",
     "output_type": "stream",
     "text": [
      "The result is: 1.2444444444444445\n"
     ]
    }
   ],
   "source": [
    "def divide_numbers():\n",
    "    try:\n",
    "        numerator = float(input(\"Enter the numerator: \"))\n",
    "        denominator = float(input(\"Enter the denominator: \"))\n",
    "        result = numerator / denominator\n",
    "        print(f\"The result is: {result}\")\n",
    "    except ZeroDivisionError:\n",
    "        print(\"Error: Cannot divide by zero!\")\n",
    "    except ValueError:\n",
    "        print(\"Error: Please enter valid numbers.\")\n",
    "\n",
    "divide_numbers()\n"
   ]
  },
  {
   "cell_type": "markdown",
   "metadata": {},
   "source": [
    "Q18.Write a Python program that prompts the user to input an integer and raises a ValueError exception if the input is not a valid integer"
   ]
  },
  {
   "cell_type": "code",
   "execution_count": null,
   "metadata": {},
   "outputs": [
    {
     "name": "stdout",
     "output_type": "stream",
     "text": [
      "The result of 1.0 divided by 2.0 is: 0.5\n"
     ]
    }
   ],
   "source": [
    "\n",
    "def get_integer():\n",
    "    user_input = input(\"Please enter an integer: \")\n",
    "    try:\n",
    "        value = int(user_input)\n",
    "        print(f\"You entered a valid integer: {value}\")\n",
    "    except ValueError:\n",
    "        raise ValueError(\"Invalid input! Please enter a valid integer.\")\n",
    "\n",
    "try:\n",
    "    get_integer()\n",
    "except ValueError as e:\n",
    "    print(e)\n",
    "\n"
   ]
  },
  {
   "cell_type": "markdown",
   "metadata": {},
   "source": [
    "Q19. WAP that exhibits multiple except blocks along with default block"
   ]
  },
  {
   "cell_type": "code",
   "execution_count": null,
   "metadata": {},
   "outputs": [
    {
     "name": "stdout",
     "output_type": "stream",
     "text": [
      "Error: Division by zero is not allowed.\n"
     ]
    }
   ],
   "source": [
    "def divide_numbers(num1, num2):\n",
    "     \n",
    "    try:\n",
    "        result = num1 / num2\n",
    "        print(f\"The result of {num1} divided by {num2} is: {result}\")\n",
    "    except ZeroDivisionError:\n",
    "        print(\"Error: Division by zero is not allowed.\")\n",
    "    except TypeError:\n",
    "        print(\"Error: Please provide numbers (integers or floats).\")\n",
    "    except ValueError:\n",
    "        print(\"Error: Please enter valid numerical values.\")\n",
    "    except Exception as e:\n",
    "        print(f\"An unexpected error occurred: {e}\")\n",
    "\n",
    " \n",
    "if __name__ == \"__main__\":\n",
    "    try:\n",
    " \n",
    "        number1 = input(\"Enter the first number (numerator): \")\n",
    "        number2 = input(\"Enter the second number (denominator): \")\n",
    " \n",
    "        number1 = float(number1)\n",
    "        number2 = float(number2)\n",
    "\n",
    " \n",
    "        divide_numbers(number1, number2)\n",
    "    except ValueError:\n",
    "        print(\"Error: Please enter valid numerical values.\") \n"
   ]
  },
  {
   "cell_type": "markdown",
   "metadata": {},
   "source": [
    "Q20. WAP that exhibits except blocks that can catch multiple exceptions."
   ]
  },
  {
   "cell_type": "code",
   "execution_count": 28,
   "metadata": {},
   "outputs": [
    {
     "name": "stdout",
     "output_type": "stream",
     "text": [
      "The result of 2.0 divided by 3.0 is: 0.6666666666666666\n"
     ]
    }
   ],
   "source": [
    "def divide_numbers(num1, num2):\n",
    "     \n",
    "    try:\n",
    "        result = num1 / num2\n",
    "        print(f\"The result of {num1} divided by {num2} is: {result}\")\n",
    "    except (ZeroDivisionError, ValueError) as e:\n",
    "        print(f\"Error: {e}\")\n",
    "\n",
    " \n",
    "if __name__ == \"__main__\":\n",
    "    try:\n",
    "    \n",
    "        number1 = input(\"Enter the first number (numerator): \")\n",
    "        number2 = input(\"Enter the second number (denominator): \")\n",
    "        \n",
    " \n",
    "        number1 = float(number1)\n",
    "        number2 = float(number2)\n",
    "\n",
    " \n",
    "        divide_numbers(number1, number2)\n",
    "    except ValueError:\n",
    "        print(\"Error: Please enter valid numerical values.\")\n"
   ]
  },
  {
   "cell_type": "markdown",
   "metadata": {},
   "source": [
    "## Lambda\n"
   ]
  },
  {
   "cell_type": "markdown",
   "metadata": {},
   "source": [
    "Q21 .WAP to demonstrate how to use lambda in map() function."
   ]
  },
  {
   "cell_type": "code",
   "execution_count": 27,
   "metadata": {},
   "outputs": [
    {
     "name": "stdout",
     "output_type": "stream",
     "text": [
      "[16, 36, 64, 100, 144]\n"
     ]
    }
   ],
   "source": [
    "numbers = [4, 6, 8, 10, 12]\n",
    "\n",
    "squared_numbers = list(map(lambda x: x ** 2, numbers))\n",
    "\n",
    "print(squared_numbers)\n"
   ]
  },
  {
   "cell_type": "markdown",
   "metadata": {},
   "source": [
    "Q22. WAP to demonstrate how to use lambda in filter() function."
   ]
  },
  {
   "cell_type": "code",
   "execution_count": 26,
   "metadata": {},
   "outputs": [
    {
     "name": "stdout",
     "output_type": "stream",
     "text": [
      "[3, 5, 7, 9, 11, 13, 15, 17, 19, 21]\n"
     ]
    }
   ],
   "source": [
    "numbers = [3, 5, 7, 9, 11, 13, 15, 17, 19, 21]\n",
    "\n",
    "odd_numbers = list(filter(lambda x: x % 2 != 0, numbers))\n",
    "\n",
    "print(odd_numbers)\n"
   ]
  },
  {
   "cell_type": "markdown",
   "metadata": {},
   "source": [
    "Q23. Write the python program to filter a list if integers into list of even numbers and list of odd numbers using lambda. [Hint : use lambda in filer()]\n"
   ]
  },
  {
   "cell_type": "code",
   "execution_count": 25,
   "metadata": {},
   "outputs": [
    {
     "name": "stdout",
     "output_type": "stream",
     "text": [
      "Even numbers: [6, 8, 10, 12, 14, 16, 18, 22, 24]\n",
      "Odd numbers: [19]\n"
     ]
    }
   ],
   "source": [
    "numbers = [6, 8, 10, 12, 14, 16, 18, 19, 22, 24]\n",
    "\n",
    "\n",
    "even_numbers = list(filter(lambda x: x % 2 == 0, numbers))\n",
    "\n",
    "\n",
    "odd_numbers = list(filter(lambda x: x % 2 != 0, numbers))\n",
    "\n",
    "print(\"Even numbers:\", even_numbers)\n",
    "print(\"Odd numbers:\", odd_numbers)\n"
   ]
  },
  {
   "cell_type": "markdown",
   "metadata": {},
   "source": [
    "Q24. Write a Python program to square and cube every number in a given list of\n",
    "integers using Lambda. [Hint: use lambda in map() ]."
   ]
  },
  {
   "cell_type": "code",
   "execution_count": 23,
   "metadata": {},
   "outputs": [
    {
     "name": "stdout",
     "output_type": "stream",
     "text": [
      "Original numbers: [5, 7, 9, 11, 13]\n",
      "Squared numbers: [25, 49, 81, 121, 169]\n",
      "Cubed numbers: [125, 343, 729, 1331, 2197]\n"
     ]
    }
   ],
   "source": [
    "numbers = [5, 7, 9, 11, 13]\n",
    "\n",
    "squared_numbers = list(map(lambda x: x ** 2, numbers))\n",
    "\n",
    "cubed_numbers = list(map(lambda x: x ** 3, numbers))\n",
    "\n",
    "print(\"Original numbers:\", numbers)\n",
    "print(\"Squared numbers:\", squared_numbers)\n",
    "print(\"Cubed numbers:\", cubed_numbers)\n"
   ]
  },
  {
   "cell_type": "markdown",
   "metadata": {},
   "source": [
    "Q25. Write a Python program to create a lambda function that adds 15 to a given\n",
    "number passed in as an argument."
   ]
  },
  {
   "cell_type": "code",
   "execution_count": 22,
   "metadata": {},
   "outputs": [
    {
     "name": "stdout",
     "output_type": "stream",
     "text": [
      "Adding 15 to 56 gives: 71\n"
     ]
    }
   ],
   "source": [
    "add_15 = lambda x: x + 15\n",
    "\n",
    "number = 56\n",
    "result = add_15(number)\n",
    "\n",
    "print(f\"Adding 15 to {number} gives: {result}\")\n"
   ]
  },
  {
   "cell_type": "code",
   "execution_count": null,
   "metadata": {},
   "outputs": [],
   "source": []
  },
  {
   "cell_type": "markdown",
   "metadata": {},
   "source": [
    "Q26. Create a lambda function that multiplies argument x with argument y and\n",
    "prints the result."
   ]
  },
  {
   "cell_type": "code",
   "execution_count": 20,
   "metadata": {},
   "outputs": [
    {
     "name": "stdout",
     "output_type": "stream",
     "text": [
      "The result of multiplying 70 and 98 is: 6860\n"
     ]
    }
   ],
   "source": [
    "multiply = lambda x, y: x * y\n",
    "\n",
    "x = 70\n",
    "y = 98\n",
    "result = multiply(x, y)\n",
    "\n",
    "print(f\"The result of multiplying {x} and {y} is: {result}\")\n"
   ]
  }
 ],
 "metadata": {
  "kernelspec": {
   "display_name": "Python 3",
   "language": "python",
   "name": "python3"
  },
  "language_info": {
   "codemirror_mode": {
    "name": "ipython",
    "version": 3
   },
   "file_extension": ".py",
   "mimetype": "text/x-python",
   "name": "python",
   "nbconvert_exporter": "python",
   "pygments_lexer": "ipython3",
   "version": "3.12.6"
  }
 },
 "nbformat": 4,
 "nbformat_minor": 2
}
